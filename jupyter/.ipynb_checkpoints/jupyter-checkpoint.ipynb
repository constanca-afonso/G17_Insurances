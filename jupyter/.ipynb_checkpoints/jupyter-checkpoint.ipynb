{
 "cells": [
  {
   "cell_type": "code",
   "execution_count": 1,
   "id": "e4c72398-35cf-4b32-b54a-bfbf0bf2b55a",
   "metadata": {},
   "outputs": [],
   "source": [
    "import pandas as pd"
   ]
  },
  {
   "cell_type": "code",
   "execution_count": 3,
   "id": "28cfe85c-7a2a-43da-a9d3-268d33e82fce",
   "metadata": {},
   "outputs": [],
   "source": [
    "df = pd.read_csv(\"Trabalho/dataexcel.csv\", delimiter=\";\")\n"
   ]
  },
  {
   "cell_type": "code",
   "execution_count": 5,
   "id": "35709dfc-fa7d-48e4-a6cd-2f9d1edf7976",
   "metadata": {},
   "outputs": [
    {
     "name": "stdout",
     "output_type": "stream",
     "text": [
      "   clients_id  policies_id effective_date    status     clients_name  \\\n",
      "0        1169           39     2025/01/23   Pending  Holly Valentine   \n",
      "1        1333          132     2025/01/14  Rejected  Patricia Walker   \n",
      "2        1653          158     2025/01/25   Pending    Ellen Perkins   \n",
      "\n",
      "                     email risk_level    type  coverage_amount  premium  \\\n",
      "0  tammyfuller@example.com       High    Home           335206       89   \n",
      "1    kreynolds@example.net     Medium  Health           405816      409   \n",
      "2   donpearson@example.com        Low    Auto           791867      285   \n",
      "\n",
      "   agents_id    agents_name agents_region  \n",
      "0         85   Lindsay Dyer      Illinois  \n",
      "1         42  Jessica Lopez     Tennessee  \n",
      "2         37       Mary Lin    New Jersey  \n"
     ]
    }
   ],
   "source": [
    "print(df.head(3))\n"
   ]
  },
  {
   "cell_type": "code",
   "execution_count": null,
   "id": "c53ec2b2-fe42-4403-8cd8-c5e0fbbb99b8",
   "metadata": {},
   "outputs": [],
   "source": []
  }
 ],
 "metadata": {
  "kernelspec": {
   "display_name": "Python 3 (ipykernel)",
   "language": "python",
   "name": "python3"
  },
  "language_info": {
   "codemirror_mode": {
    "name": "ipython",
    "version": 3
   },
   "file_extension": ".py",
   "mimetype": "text/x-python",
   "name": "python",
   "nbconvert_exporter": "python",
   "pygments_lexer": "ipython3",
   "version": "3.12.4"
  }
 },
 "nbformat": 4,
 "nbformat_minor": 5
}
